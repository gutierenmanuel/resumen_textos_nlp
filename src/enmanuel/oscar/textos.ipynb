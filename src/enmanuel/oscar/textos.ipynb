{
 "cells": [
  {
   "cell_type": "code",
   "execution_count": 261,
   "metadata": {},
   "outputs": [],
   "source": [
    "import pandas as pd\n",
    "import numpy as np"
   ]
  },
  {
   "cell_type": "code",
   "execution_count": 262,
   "metadata": {},
   "outputs": [],
   "source": [
    "texto='''La inteligencia artificial (IA), en el contexto de las ciencias de la computación, es una disciplina y un conjunto de capacidades cognoscitivas e intelectuales expresadas por sistemas informáticos o combinaciones de algoritmos cuyo propósito es la creación de máquinas que imiten la inteligencia humana para realizar tareas, y que pueden mejorar conforme recopilen información. Se hizo presente poco después de la Segunda Guerra Mundial con el desarrollo de la «prueba de Turing», mientras que la locución fue acuñada en 1956 por el informático John McCarthy en la Conferencia de Dartmouth.\n",
    "\n",
    "En la actualidad, la inteligencia artificial abarca una gran variedad de subcampos. Éstos van desde áreas de propósito general, aprendizaje y percepción, a otras más específicas como el Reconocimiento de voz, el juego de ajedrez, la demostración de teoremas matemáticos, la escritura de poesía y el diagnóstico de enfermedades. La inteligencia artificial sintetiza y automatiza tareas que en principio son intelectuales y, por lo tanto, es potencialmente relevante para cualquier ámbito de actividades intelectuales humanas. En este sentido, es un campo genuinamente universal.\n",
    "\n",
    "La arquitectura de las inteligencias artificiales y los procesos por los cuales aprenden, se mejoran y se implementan en algún área de interés varía según el enfoque de utilidad que se les quiera dar, pero de manera general, estos van desde la ejecución de sencillos algoritmos hasta la interconexión de complejas redes neuronales artificiales que intentan replicar los circuitos neuronales del cerebro humano y que aprenden mediante diferentes modelos de aprendizaje tales como el aprendizaje automático, el aprendizaje por refuerzo, el aprendizaje profundo y el aprendizaje supervisado.\n",
    "\n",
    "Por otro lado, el desarrollo y aplicación de la inteligencia artificial en muchos aspectos de la vida cotidiana también ha propiciado la creación de nuevos campos de estudio como la roboética y la ética de las máquinas que abordan aspectos relacionados con la ética en la inteligencia artificial y que se encargan de analizar cómo los avances en este tipo de tecnologías impactarían en diversos ámbitos de la vida, así como el manejo responsable y ético que se les debería dar a los mismos, además de establecer cuál debería ser la manera correcta de proceder de las máquinas y las reglas que deberían cumplir.\n",
    "\n",
    "En cuanto a su clasificación, tradicionalmente se divide a la inteligencia artificial en inteligencia artificial débil, la cual es la única que existe en la actualidad y que se ocupa de realizar tareas específicas, e inteligencia artificial general, que sería una IA que excediese las capacidades humanas. Algunos expertos creen que si alguna vez se alcanza este nivel, se podría dar lugar a la aparición de una singularidad tecnológica, es decir, una entidad tecnológica superior que se mejoraría a sí misma constantemente, volviéndose incontrolable para los humanos, dando pie a teorías como el basilisco de Roko.\n",
    "\n",
    "Algunas de las inteligencias artificiales más conocidas y utilizadas en la actualidad alrededor del mundo incluyen inteligencia artificial en el campo de la salud, asistentes virtuales como Alexa, el asistente de Google o Siri, traductores automáticos como el traductor de Google y DeepL, sistemas de recomendación como el de la plataforma digital de YouTube, motores de ajedrez y otros juegos como Stockfish y AlphaZero, chatbots como ChatGPT, creadores de arte de inteligencia artificial como Midjourney, Dall-e, Leonardo y Stable Diffusion, e incluso la conducción de vehículos autónomos como Tesla Autopilot.\n",
    "\n",
    "Asimismo la inteligencia artificial se está desarrollando en la plataforma digital cada vez más, evolucionando y creando nuevas herramientas, como la plataforma laboral que existe desde el año 2023 llamada SIVIUM, una herramienta por la cual una persona postula en forma automatizada a todas las ofertas laborales de todos los portales de trabajo, sin necesidad de estar revisando cada oferta laboral que se presente y enviar su CV uno por uno'''"
   ]
  },
  {
   "cell_type": "code",
   "execution_count": 263,
   "metadata": {},
   "outputs": [],
   "source": [
    "texto=texto.lower()"
   ]
  },
  {
   "cell_type": "code",
   "execution_count": 264,
   "metadata": {},
   "outputs": [],
   "source": [
    "texto = texto.replace(\"\\n\", \"\")"
   ]
  },
  {
   "cell_type": "code",
   "execution_count": 265,
   "metadata": {},
   "outputs": [],
   "source": [
    "lst_=texto.split('.')"
   ]
  },
  {
   "cell_type": "code",
   "execution_count": 266,
   "metadata": {},
   "outputs": [
    {
     "name": "stdout",
     "output_type": "stream",
     "text": [
      "la inteligencia artificial (ia), en el contexto de las ciencias de la computación, es una disciplina y un conjunto de capacidades cognoscitivas e intelectuales expresadas por sistemas informáticos o combinaciones de algoritmos cuyo propósito es la creación de máquinas que imiten la inteligencia humana para realizar tareas, y que pueden mejorar conforme recopilen información\n",
      " se hizo presente poco después de la segunda guerra mundial con el desarrollo de la «prueba de turing», mientras que la locución fue acuñada en 1956 por el informático john mccarthy en la conferencia de dartmouth\n",
      "en la actualidad, la inteligencia artificial abarca una gran variedad de subcampos\n",
      " éstos van desde áreas de propósito general, aprendizaje y percepción, a otras más específicas como el reconocimiento de voz, el juego de ajedrez, la demostración de teoremas matemáticos, la escritura de poesía y el diagnóstico de enfermedades\n",
      " la inteligencia artificial sintetiza y automatiza tareas que en principio son intelectuales y, por lo tanto, es potencialmente relevante para cualquier ámbito de actividades intelectuales humanas\n",
      " en este sentido, es un campo genuinamente universal\n",
      "la arquitectura de las inteligencias artificiales y los procesos por los cuales aprenden, se mejoran y se implementan en algún área de interés varía según el enfoque de utilidad que se les quiera dar, pero de manera general, estos van desde la ejecución de sencillos algoritmos hasta la interconexión de complejas redes neuronales artificiales que intentan replicar los circuitos neuronales del cerebro humano y que aprenden mediante diferentes modelos de aprendizaje tales como el aprendizaje automático, el aprendizaje por refuerzo, el aprendizaje profundo y el aprendizaje supervisado\n",
      "por otro lado, el desarrollo y aplicación de la inteligencia artificial en muchos aspectos de la vida cotidiana también ha propiciado la creación de nuevos campos de estudio como la roboética y la ética de las máquinas que abordan aspectos relacionados con la ética en la inteligencia artificial y que se encargan de analizar cómo los avances en este tipo de tecnologías impactarían en diversos ámbitos de la vida, así como el manejo responsable y ético que se les debería dar a los mismos, además de establecer cuál debería ser la manera correcta de proceder de las máquinas y las reglas que deberían cumplir\n",
      "en cuanto a su clasificación, tradicionalmente se divide a la inteligencia artificial en inteligencia artificial débil, la cual es la única que existe en la actualidad y que se ocupa de realizar tareas específicas, e inteligencia artificial general, que sería una ia que excediese las capacidades humanas\n",
      " algunos expertos creen que si alguna vez se alcanza este nivel, se podría dar lugar a la aparición de una singularidad tecnológica, es decir, una entidad tecnológica superior que se mejoraría a sí misma constantemente, volviéndose incontrolable para los humanos, dando pie a teorías como el basilisco de roko\n",
      "algunas de las inteligencias artificiales más conocidas y utilizadas en la actualidad alrededor del mundo incluyen inteligencia artificial en el campo de la salud, asistentes virtuales como alexa, el asistente de google o siri, traductores automáticos como el traductor de google y deepl, sistemas de recomendación como el de la plataforma digital de youtube, motores de ajedrez y otros juegos como stockfish y alphazero, chatbots como chatgpt, creadores de arte de inteligencia artificial como midjourney, dall-e, leonardo y stable diffusion, e incluso la conducción de vehículos autónomos como tesla autopilot\n",
      "asimismo la inteligencia artificial se está desarrollando en la plataforma digital cada vez más, evolucionando y creando nuevas herramientas, como la plataforma laboral que existe desde el año 2023 llamada sivium, una herramienta por la cual una persona postula en forma automatizada a todas las ofertas laborales de todos los portales de trabajo, sin necesidad de estar revisando cada oferta laboral que se presente y enviar su cv uno por uno\n"
     ]
    }
   ],
   "source": [
    "for index,i in enumerate(lst_):\n",
    "    print(i)"
   ]
  },
  {
   "cell_type": "code",
   "execution_count": 267,
   "metadata": {},
   "outputs": [],
   "source": [
    "palabras_a_buscar = [\"ia\", \"inteligencia\", \"artificial\", \"aprendizaje\",\"automático\"]"
   ]
  },
  {
   "cell_type": "code",
   "execution_count": 268,
   "metadata": {},
   "outputs": [],
   "source": [
    "# Contar la frecuencia de cada palabra\n",
    "lst_palabras=[]\n",
    "for i in lst_:\n",
    "    palabras=i.split(' ')\n",
    "    lst_palabras.append(palabras)\n",
    "    "
   ]
  },
  {
   "cell_type": "code",
   "execution_count": 269,
   "metadata": {},
   "outputs": [
    {
     "name": "stdout",
     "output_type": "stream",
     "text": [
      "[['la', 'inteligencia', 'artificial', '(ia),', 'en', 'el', 'contexto', 'de', 'las', 'ciencias', 'de', 'la', 'computación,', 'es', 'una', 'disciplina', 'y', 'un', 'conjunto', 'de', 'capacidades', 'cognoscitivas', 'e', 'intelectuales', 'expresadas', 'por', 'sistemas', 'informáticos', 'o', 'combinaciones', 'de', 'algoritmos', 'cuyo', 'propósito', 'es', 'la', 'creación', 'de', 'máquinas', 'que', 'imiten', 'la', 'inteligencia', 'humana', 'para', 'realizar', 'tareas,', 'y', 'que', 'pueden', 'mejorar', 'conforme', 'recopilen', 'información'], ['', 'se', 'hizo', 'presente', 'poco', 'después', 'de', 'la', 'segunda', 'guerra', 'mundial', 'con', 'el', 'desarrollo', 'de', 'la', '«prueba', 'de', 'turing»,', 'mientras', 'que', 'la', 'locución', 'fue', 'acuñada', 'en', '1956', 'por', 'el', 'informático', 'john', 'mccarthy', 'en', 'la', 'conferencia', 'de', 'dartmouth'], ['en', 'la', 'actualidad,', 'la', 'inteligencia', 'artificial', 'abarca', 'una', 'gran', 'variedad', 'de', 'subcampos'], ['', 'éstos', 'van', 'desde', 'áreas', 'de', 'propósito', 'general,', 'aprendizaje', 'y', 'percepción,', 'a', 'otras', 'más', 'específicas', 'como', 'el', 'reconocimiento', 'de', 'voz,', 'el', 'juego', 'de', 'ajedrez,', 'la', 'demostración', 'de', 'teoremas', 'matemáticos,', 'la', 'escritura', 'de', 'poesía', 'y', 'el', 'diagnóstico', 'de', 'enfermedades'], ['', 'la', 'inteligencia', 'artificial', 'sintetiza', 'y', 'automatiza', 'tareas', 'que', 'en', 'principio', 'son', 'intelectuales', 'y,', 'por', 'lo', 'tanto,', 'es', 'potencialmente', 'relevante', 'para', 'cualquier', 'ámbito', 'de', 'actividades', 'intelectuales', 'humanas'], ['', 'en', 'este', 'sentido,', 'es', 'un', 'campo', 'genuinamente', 'universal'], ['la', 'arquitectura', 'de', 'las', 'inteligencias', 'artificiales', 'y', 'los', 'procesos', 'por', 'los', 'cuales', 'aprenden,', 'se', 'mejoran', 'y', 'se', 'implementan', 'en', 'algún', 'área', 'de', 'interés', 'varía', 'según', 'el', 'enfoque', 'de', 'utilidad', 'que', 'se', 'les', 'quiera', 'dar,', 'pero', 'de', 'manera', 'general,', 'estos', 'van', 'desde', 'la', 'ejecución', 'de', 'sencillos', 'algoritmos', 'hasta', 'la', 'interconexión', 'de', 'complejas', 'redes', 'neuronales', 'artificiales', 'que', 'intentan', 'replicar', 'los', 'circuitos', 'neuronales', 'del', 'cerebro', 'humano', 'y', 'que', 'aprenden', 'mediante', 'diferentes', 'modelos', 'de', 'aprendizaje', 'tales', 'como', 'el', 'aprendizaje', 'automático,', 'el', 'aprendizaje', 'por', 'refuerzo,', 'el', 'aprendizaje', 'profundo', 'y', 'el', 'aprendizaje', 'supervisado'], ['por', 'otro', 'lado,', 'el', 'desarrollo', 'y', 'aplicación', 'de', 'la', 'inteligencia', 'artificial', 'en', 'muchos', 'aspectos', 'de', 'la', 'vida', 'cotidiana', 'también', 'ha', 'propiciado', 'la', 'creación', 'de', 'nuevos', 'campos', 'de', 'estudio', 'como', 'la', 'roboética', 'y', 'la', 'ética', 'de', 'las', 'máquinas', 'que', 'abordan', 'aspectos', 'relacionados', 'con', 'la', 'ética', 'en', 'la', 'inteligencia', 'artificial', 'y', 'que', 'se', 'encargan', 'de', 'analizar', 'cómo', 'los', 'avances', 'en', 'este', 'tipo', 'de', 'tecnologías', 'impactarían', 'en', 'diversos', 'ámbitos', 'de', 'la', 'vida,', 'así', 'como', 'el', 'manejo', 'responsable', 'y', 'ético', 'que', 'se', 'les', 'debería', 'dar', 'a', 'los', 'mismos,', 'además', 'de', 'establecer', 'cuál', 'debería', 'ser', 'la', 'manera', 'correcta', 'de', 'proceder', 'de', 'las', 'máquinas', 'y', 'las', 'reglas', 'que', 'deberían', 'cumplir'], ['en', 'cuanto', 'a', 'su', 'clasificación,', 'tradicionalmente', 'se', 'divide', 'a', 'la', 'inteligencia', 'artificial', 'en', 'inteligencia', 'artificial', 'débil,', 'la', 'cual', 'es', 'la', 'única', 'que', 'existe', 'en', 'la', 'actualidad', 'y', 'que', 'se', 'ocupa', 'de', 'realizar', 'tareas', 'específicas,', 'e', 'inteligencia', 'artificial', 'general,', 'que', 'sería', 'una', 'ia', 'que', 'excediese', 'las', 'capacidades', 'humanas'], ['', 'algunos', 'expertos', 'creen', 'que', 'si', 'alguna', 'vez', 'se', 'alcanza', 'este', 'nivel,', 'se', 'podría', 'dar', 'lugar', 'a', 'la', 'aparición', 'de', 'una', 'singularidad', 'tecnológica,', 'es', 'decir,', 'una', 'entidad', 'tecnológica', 'superior', 'que', 'se', 'mejoraría', 'a', 'sí', 'misma', 'constantemente,', 'volviéndose', 'incontrolable', 'para', 'los', 'humanos,', 'dando', 'pie', 'a', 'teorías', 'como', 'el', 'basilisco', 'de', 'roko'], ['algunas', 'de', 'las', 'inteligencias', 'artificiales', 'más', 'conocidas', 'y', 'utilizadas', 'en', 'la', 'actualidad', 'alrededor', 'del', 'mundo', 'incluyen', 'inteligencia', 'artificial', 'en', 'el', 'campo', 'de', 'la', 'salud,', 'asistentes', 'virtuales', 'como', 'alexa,', 'el', 'asistente', 'de', 'google', 'o', 'siri,', 'traductores', 'automáticos', 'como', 'el', 'traductor', 'de', 'google', 'y', 'deepl,', 'sistemas', 'de', 'recomendación', 'como', 'el', 'de', 'la', 'plataforma', 'digital', 'de', 'youtube,', 'motores', 'de', 'ajedrez', 'y', 'otros', 'juegos', 'como', 'stockfish', 'y', 'alphazero,', 'chatbots', 'como', 'chatgpt,', 'creadores', 'de', 'arte', 'de', 'inteligencia', 'artificial', 'como', 'midjourney,', 'dall-e,', 'leonardo', 'y', 'stable', 'diffusion,', 'e', 'incluso', 'la', 'conducción', 'de', 'vehículos', 'autónomos', 'como', 'tesla', 'autopilot'], ['asimismo', 'la', 'inteligencia', 'artificial', 'se', 'está', 'desarrollando', 'en', 'la', 'plataforma', 'digital', 'cada', 'vez', 'más,', 'evolucionando', 'y', 'creando', 'nuevas', 'herramientas,', 'como', 'la', 'plataforma', 'laboral', 'que', 'existe', 'desde', 'el', 'año', '2023', 'llamada', 'sivium,', 'una', 'herramienta', 'por', 'la', 'cual', 'una', 'persona', 'postula', 'en', 'forma', 'automatizada', 'a', 'todas', 'las', 'ofertas', 'laborales', 'de', 'todos', 'los', 'portales', 'de', 'trabajo,', 'sin', 'necesidad', 'de', 'estar', 'revisando', 'cada', 'oferta', 'laboral', 'que', 'se', 'presente', 'y', 'enviar', 'su', 'cv', 'uno', 'por', 'uno']]\n"
     ]
    }
   ],
   "source": [
    "print(lst_palabras)\n"
   ]
  },
  {
   "cell_type": "code",
   "execution_count": 270,
   "metadata": {},
   "outputs": [],
   "source": [
    "lista_contadores=[]\n",
    "for palabra in lst_palabras:\n",
    "    #print(palabra)\n",
    "    contador = 0\n",
    "    for i in palabra:  \n",
    "         #print(i)    \n",
    "         if i in palabras_a_buscar:                         \n",
    "            contador+=1\n",
    "            #print(contador)\n",
    "    lista_contadores.append(contador)"
   ]
  },
  {
   "cell_type": "code",
   "execution_count": 271,
   "metadata": {},
   "outputs": [
    {
     "data": {
      "text/plain": [
       "[3, 0, 2, 1, 2, 0, 5, 4, 7, 0, 4, 2]"
      ]
     },
     "execution_count": 271,
     "metadata": {},
     "output_type": "execute_result"
    }
   ],
   "source": [
    "lista_contadores"
   ]
  },
  {
   "cell_type": "code",
   "execution_count": 272,
   "metadata": {},
   "outputs": [
    {
     "data": {
      "text/html": [
       "<div>\n",
       "<style scoped>\n",
       "    .dataframe tbody tr th:only-of-type {\n",
       "        vertical-align: middle;\n",
       "    }\n",
       "\n",
       "    .dataframe tbody tr th {\n",
       "        vertical-align: top;\n",
       "    }\n",
       "\n",
       "    .dataframe thead th {\n",
       "        text-align: right;\n",
       "    }\n",
       "</style>\n",
       "<table border=\"1\" class=\"dataframe\">\n",
       "  <thead>\n",
       "    <tr style=\"text-align: right;\">\n",
       "      <th></th>\n",
       "      <th>frases</th>\n",
       "      <th>valores</th>\n",
       "    </tr>\n",
       "  </thead>\n",
       "  <tbody>\n",
       "    <tr>\n",
       "      <th>0</th>\n",
       "      <td>la inteligencia artificial (ia), en el context...</td>\n",
       "      <td>3</td>\n",
       "    </tr>\n",
       "    <tr>\n",
       "      <th>1</th>\n",
       "      <td>se hizo presente poco después de la segunda g...</td>\n",
       "      <td>0</td>\n",
       "    </tr>\n",
       "    <tr>\n",
       "      <th>2</th>\n",
       "      <td>en la actualidad, la inteligencia artificial a...</td>\n",
       "      <td>2</td>\n",
       "    </tr>\n",
       "    <tr>\n",
       "      <th>3</th>\n",
       "      <td>éstos van desde áreas de propósito general, a...</td>\n",
       "      <td>1</td>\n",
       "    </tr>\n",
       "    <tr>\n",
       "      <th>4</th>\n",
       "      <td>la inteligencia artificial sintetiza y automa...</td>\n",
       "      <td>2</td>\n",
       "    </tr>\n",
       "    <tr>\n",
       "      <th>5</th>\n",
       "      <td>en este sentido, es un campo genuinamente uni...</td>\n",
       "      <td>0</td>\n",
       "    </tr>\n",
       "    <tr>\n",
       "      <th>6</th>\n",
       "      <td>la arquitectura de las inteligencias artificia...</td>\n",
       "      <td>5</td>\n",
       "    </tr>\n",
       "    <tr>\n",
       "      <th>7</th>\n",
       "      <td>por otro lado, el desarrollo y aplicación de l...</td>\n",
       "      <td>4</td>\n",
       "    </tr>\n",
       "    <tr>\n",
       "      <th>8</th>\n",
       "      <td>en cuanto a su clasificación, tradicionalmente...</td>\n",
       "      <td>7</td>\n",
       "    </tr>\n",
       "    <tr>\n",
       "      <th>9</th>\n",
       "      <td>algunos expertos creen que si alguna vez se a...</td>\n",
       "      <td>0</td>\n",
       "    </tr>\n",
       "    <tr>\n",
       "      <th>10</th>\n",
       "      <td>algunas de las inteligencias artificiales más ...</td>\n",
       "      <td>4</td>\n",
       "    </tr>\n",
       "    <tr>\n",
       "      <th>11</th>\n",
       "      <td>asimismo la inteligencia artificial se está de...</td>\n",
       "      <td>2</td>\n",
       "    </tr>\n",
       "  </tbody>\n",
       "</table>\n",
       "</div>"
      ],
      "text/plain": [
       "                                               frases  valores\n",
       "0   la inteligencia artificial (ia), en el context...        3\n",
       "1    se hizo presente poco después de la segunda g...        0\n",
       "2   en la actualidad, la inteligencia artificial a...        2\n",
       "3    éstos van desde áreas de propósito general, a...        1\n",
       "4    la inteligencia artificial sintetiza y automa...        2\n",
       "5    en este sentido, es un campo genuinamente uni...        0\n",
       "6   la arquitectura de las inteligencias artificia...        5\n",
       "7   por otro lado, el desarrollo y aplicación de l...        4\n",
       "8   en cuanto a su clasificación, tradicionalmente...        7\n",
       "9    algunos expertos creen que si alguna vez se a...        0\n",
       "10  algunas de las inteligencias artificiales más ...        4\n",
       "11  asimismo la inteligencia artificial se está de...        2"
      ]
     },
     "execution_count": 272,
     "metadata": {},
     "output_type": "execute_result"
    }
   ],
   "source": [
    "df = pd.DataFrame({\"frases\": lst_, \"valores\": lista_contadores})\n",
    "\n",
    "df"
   ]
  },
  {
   "cell_type": "code",
   "execution_count": null,
   "metadata": {},
   "outputs": [],
   "source": []
  },
  {
   "cell_type": "code",
   "execution_count": null,
   "metadata": {},
   "outputs": [],
   "source": []
  }
 ],
 "metadata": {
  "kernelspec": {
   "display_name": "Python 3",
   "language": "python",
   "name": "python3"
  },
  "language_info": {
   "codemirror_mode": {
    "name": "ipython",
    "version": 3
   },
   "file_extension": ".py",
   "mimetype": "text/x-python",
   "name": "python",
   "nbconvert_exporter": "python",
   "pygments_lexer": "ipython3",
   "version": "3.10.2"
  }
 },
 "nbformat": 4,
 "nbformat_minor": 2
}
